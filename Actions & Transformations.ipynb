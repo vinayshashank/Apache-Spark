{
 "cells": [
  {
   "cell_type": "markdown",
   "metadata": {},
   "source": [
    "#### Actions and Transformations!"
   ]
  },
  {
   "cell_type": "code",
   "execution_count": 48,
   "metadata": {
    "collapsed": false
   },
   "outputs": [
    {
     "name": "stdout",
     "output_type": "stream",
     "text": [
      "[1, 2, 3, 4, 5, 6, 7, 8, 9, 10]\n",
      "1\n",
      "[10, 20, 30, 40, 50, 60, 70, 80, 90, 100]\n",
      "[5, 6, 7, 8, 9, 10]\n",
      "[[1, 1], [2, 4], [3, 9], [4, 16], [5, 25], [6, 36], [7, 49], [8, 64], [9, 81], [10, 100]]\n",
      "[1, 1, 2, 4, 3, 9, 4, 16, 5, 25, 6, 36, 7, 49, 8, 64, 9, 81, 10, 100]\n",
      "rdd6:  [1, 2, 3, 4, 5, 6, 7, 8, 9, 10, 16, 25, 36, 49, 64, 81, 100]\n",
      "55\n",
      "10\n",
      "[1, 2, 3, 4, 5]\n",
      "[10, 9, 8, 7, 6]\n"
     ]
    }
   ],
   "source": [
    "rdd= sc.parallelize([1,2,3,4,5,6,7,8,9,10])\n",
    "print rdd.collect()\n",
    "print rdd.getNumPartitions()\n",
    "rdd2 = rdd.map(lambda x: x*10)\n",
    "rdd3 = rdd.filter(lambda x:x>=5)\n",
    "rdd4 = rdd.map(lambda x: [x,x**2])\n",
    "rdd5 = rdd.flatMap(lambda x:[x,x**2])\n",
    "rdd6 = rdd5.distinct()\n",
    "print rdd2.collect()\n",
    "print rdd3.collect()\n",
    "print rdd4.collect()\n",
    "print rdd5.collect()\n",
    "print \"rdd6: \", sorted(rdd6.collect())\n",
    "\n",
    "print rdd.reduce(lambda x,y:x+y)\n",
    "print rdd.count()\n",
    "print rdd.take(5)\n",
    "print rdd.takeOrdered(5,lambda x:x*-1)\n"
   ]
  },
  {
   "cell_type": "markdown",
   "metadata": {},
   "source": [
    "#### Key Value Pair Transformations"
   ]
  },
  {
   "cell_type": "code",
   "execution_count": 58,
   "metadata": {
    "collapsed": false
   },
   "outputs": [
    {
     "name": "stdout",
     "output_type": "stream",
     "text": [
      "[(1, 10), (3, 4), (4, 6)]\n",
      "[(1, 2), (1, 5), (1, 3), (3, 4), (4, 6)]\n",
      "[(1, [2, 5, 3]), (3, [4]), (4, [6])]\n"
     ]
    }
   ],
   "source": [
    "rdd = sc.parallelize([(1,2),(3,4),(1,5),(4,6),(1,3)])\n",
    "print rdd.reduceByKey(lambda x,y:x+y).collect()\n",
    "print rdd.sortByKey().collect()\n",
    "print rdd.groupByKey().mapValues(list).collect()"
   ]
  }
 ],
 "metadata": {
  "kernelspec": {
   "display_name": "Python 2",
   "language": "python",
   "name": "python2"
  },
  "language_info": {
   "codemirror_mode": {
    "name": "ipython",
    "version": 2
   },
   "file_extension": ".py",
   "mimetype": "text/x-python",
   "name": "python",
   "nbconvert_exporter": "python",
   "pygments_lexer": "ipython2",
   "version": "2.7.6"
  }
 },
 "nbformat": 4,
 "nbformat_minor": 0
}
